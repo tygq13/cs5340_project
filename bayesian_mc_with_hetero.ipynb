{
 "cells": [
  {
   "cell_type": "markdown",
   "metadata": {},
   "source": [
    "# Fine-tuning ASR for Singlish Speech Recognition\n",
    "\n",
    "This notebook implements a complete pipeline for fine-tuning an Automatic Speech Recognition (ASR) model on Singlish using the National Speech Corpus (NSC). We'll process the data, fine-tune a pre-trained Whisper model, evaluate its performance, and analyze the results."
   ]
  },
  {
   "cell_type": "markdown",
   "metadata": {},
   "source": [
    "## 1. Environment Setup\n",
    "\n",
    "First, let's import the necessary libraries and set up our environment."
   ]
  },
  {
   "cell_type": "code",
   "execution_count": 1,
   "metadata": {},
   "outputs": [
    {
     "name": "stderr",
     "output_type": "stream",
     "text": [
      "D:\\softwares\\Anaconda\\envs\\deeplearn_course\\lib\\site-packages\\torchvision\\io\\image.py:13: UserWarning: Failed to load image Python extension: '[WinError 127] The specified procedure could not be found'If you don't plan on using image functionality from `torchvision.io`, you can ignore this warning. Otherwise, there might be something wrong with your environment. Did you have `libjpeg` or `libpng` installed before building `torchvision` from source?\n",
      "  warn(\n"
     ]
    },
    {
     "name": "stdout",
     "output_type": "stream",
     "text": [
      "Using device: cpu\n"
     ]
    }
   ],
   "source": [
    "import os\n",
    "import torch\n",
    "import pandas as pd\n",
    "import numpy as np\n",
    "import matplotlib.pyplot as plt\n",
    "import seaborn as sns\n",
    "from tqdm.notebook import tqdm\n",
    "from pathlib import Path\n",
    "import torchaudio\n",
    "from datasets import Dataset, Audio\n",
    "from transformers import WhisperProcessor, WhisperForConditionalGeneration, WhisperFeatureExtractor, Seq2SeqTrainingArguments, Seq2SeqTrainer\n",
    "from jiwer import wer\n",
    "from collections import Counter\n",
    "import re\n",
    "import evaluate\n",
    "\n",
    "# Set up plotting style\n",
    "plt.style.use('ggplot')\n",
    "\n",
    "# Check GPU availability\n",
    "device = torch.device(\"cuda\" if torch.cuda.is_available() else \"cpu\")\n",
    "print(f\"Using device: {device}\")\n",
    "\n",
    "# Define paths\n",
    "BASE_FOLDER = \"CHANNEL0\"\n",
    "TRANSCRIPT_PATH = os.path.join(BASE_FOLDER, \"SCRIPT\",\"000010.TXT\")\n",
    "AUDIO_PATH = os.path.join(BASE_FOLDER, \"WAVE\",\"SPEAKER0001/SESSION0\")"
   ]
  },
  {
   "cell_type": "markdown",
   "metadata": {},
   "source": [
    "## 2. Data Processing Functions\n",
    "\n",
    "Let's define functions to load and process our data."
   ]
  },
  {
   "cell_type": "code",
   "execution_count": 2,
   "metadata": {},
   "outputs": [],
   "source": [
    "def load_transcripts(transcript_path):\n",
    "    \"\"\"Load transcripts from the specified file\n",
    "    \n",
    "    The transcript file has the format: <line number><tab><sentence>\n",
    "    \"\"\"\n",
    "    transcripts = {}\n",
    "    \n",
    "    with open(transcript_path, 'r', encoding='utf-8') as f:\n",
    "        for line in f:\n",
    "            parts = line.strip().split('\\t')\n",
    "            if len(parts) == 2:\n",
    "                line_num, text = parts\n",
    "                transcripts[line_num] = text\n",
    "    \n",
    "    print(f\"Loaded {len(transcripts)} transcripts\")\n",
    "    return transcripts\n",
    "\n",
    "def prepare_dataset(transcripts, audio_path):\n",
    "    \"\"\"Prepare dataset with audio file paths and transcripts\"\"\"\n",
    "    data = []\n",
    "    \n",
    "    for line_num, text in tqdm(transcripts.items(), desc=\"Processing files\"):\n",
    "        # The audio filename is based on the line number\n",
    "        audio_file = os.path.join(audio_path, f\"{line_num}.WAV\")\n",
    "        \n",
    "        if os.path.exists(audio_file):\n",
    "            data.append({\n",
    "                \"audio_path\": audio_file,\n",
    "                \"text\": text,\n",
    "                \"line_num\": line_num\n",
    "            })\n",
    "    \n",
    "    print(f\"Created dataset with {len(data)} samples\")\n",
    "    return pd.DataFrame(data)\n",
    "\n",
    "def create_hf_dataset(df):\n",
    "    \"\"\"Convert pandas DataFrame to Hugging Face Dataset\"\"\"\n",
    "    dataset = Dataset.from_pandas(df)\n",
    "    # Add audio to the dataset\n",
    "    dataset = dataset.cast_column(\"audio_path\", Audio())\n",
    "    return dataset\n",
    "\n",
    "def prepare_dataset_for_whisper(batch, processor):\n",
    "    \"\"\"Process the dataset to prepare it for Whisper model\"\"\"\n",
    "    # Load and resample the audio data\n",
    "    audio = batch[\"audio_path\"]\n",
    "    \n",
    "    # Resample to 16kHz if needed\n",
    "    if audio[\"sampling_rate\"] != 16000:\n",
    "        waveform = torch.tensor(audio[\"array\"])\n",
    "        waveform = torchaudio.functional.resample(\n",
    "            waveform, \n",
    "            orig_freq=audio[\"sampling_rate\"], \n",
    "            new_freq=16000\n",
    "        )\n",
    "        audio[\"array\"] = waveform.numpy()\n",
    "        audio[\"sampling_rate\"] = 16000\n",
    "    \n",
    "    # Compute log-Mel input features from input audio array\n",
    "    batch[\"input_features\"] = processor.feature_extractor(\n",
    "        audio[\"array\"], \n",
    "        sampling_rate=audio[\"sampling_rate\"]\n",
    "    ).input_features[0]\n",
    "    \n",
    "    # Encode target text to label ids\n",
    "    # For Whisper, use forced_decoder_ids and suppress_tokens during generation, not during preprocessing\n",
    "    batch[\"labels\"] = processor.tokenizer(\n",
    "        text=batch[\"text\"],\n",
    "        padding=\"max_length\",\n",
    "        max_length=448,\n",
    "        truncation=True,\n",
    "    ).input_ids\n",
    "    \n",
    "    return batch\n",
    "\n",
    "def compute_metrics(pred, processor):\n",
    "    \"\"\"Compute WER for model evaluation\"\"\"\n",
    "    wer_metric = evaluate.load(\"wer\")\n",
    "    \n",
    "    pred_ids = pred.predictions\n",
    "    label_ids = pred.label_ids\n",
    "    \n",
    "    # Replace -100 with the pad_token_id\n",
    "    label_ids[label_ids == -100] = processor.tokenizer.pad_token_id\n",
    "    \n",
    "    # Convert ids to text\n",
    "    pred_str = processor.tokenizer.batch_decode(pred_ids, skip_special_tokens=True)\n",
    "    label_str = processor.tokenizer.batch_decode(label_ids, skip_special_tokens=True)\n",
    "    \n",
    "    wer = wer_metric.compute(predictions=pred_str, references=label_str)\n",
    "    \n",
    "    return {\"wer\": wer}"
   ]
  },
  {
   "cell_type": "code",
   "execution_count": 3,
   "metadata": {},
   "outputs": [
    {
     "name": "stdout",
     "output_type": "stream",
     "text": [
      "Loaded 353 transcripts\n"
     ]
    },
    {
     "name": "stderr",
     "output_type": "stream",
     "text": [
      "Processing files: 100%|██████████████████████████████████████████████████████████████████████████████████████████████████| 353/353 [00:00<00:00, 28427.50it/s]"
     ]
    },
    {
     "name": "stdout",
     "output_type": "stream",
     "text": [
      "Created dataset with 352 samples\n",
      "Total samples collected: 352\n"
     ]
    },
    {
     "name": "stderr",
     "output_type": "stream",
     "text": [
      "\n"
     ]
    }
   ],
   "source": [
    "import os\n",
    "import pandas as pd\n",
    "from glob import glob\n",
    "from tqdm import tqdm\n",
    "\n",
    "def load_all_channels_data(root_dir: str) -> pd.DataFrame:\n",
    "    \"\"\"\n",
    "    Walk through every CHANNEL* in `root_dir`, load transcripts and match\n",
    "    them to their audio files. Returns a DataFrame with columns:\n",
    "      - audio_path: full .wav path\n",
    "      - text: the transcript line\n",
    "      - line_num: the utterance ID (e.g. \"000123\")\n",
    "      - channel: e.g. \"CHANNEL0\"\n",
    "      - speaker: derived from line_num[1:-1], e.g. \"0001\"\n",
    "      - session: derived from line_num[-1], e.g. \"0\"\n",
    "    \"\"\"\n",
    "    all_dfs = []\n",
    "\n",
    "    # find all CHANNEL* folders\n",
    "    channels = [\n",
    "        d for d in os.listdir(root_dir)\n",
    "        if d.startswith(\"CHANNEL\") and os.path.isdir(os.path.join(root_dir, d))\n",
    "    ]\n",
    "\n",
    "    for channel in channels:\n",
    "        script_dir = os.path.join(root_dir, channel, \"SCRIPT\")\n",
    "        wave_root  = os.path.join(root_dir, channel, \"WAVE\")\n",
    "\n",
    "        # each .TXT file holds transcripts for one speaker/session\n",
    "        for txt_file in glob(os.path.join(script_dir, \"*.TXT\")):\n",
    "            # load the line-by-line transcripts\n",
    "            transcripts = load_transcripts(txt_file)\n",
    "\n",
    "            # derive speaker/session from filename, e.g. \"000010\" → SPEAKER0001/SESSION0\n",
    "            fname      = os.path.splitext(os.path.basename(txt_file))[0]  # \"000010\"\n",
    "            speaker_id = fname[1:-1]   # \"0001\"\n",
    "            session_id = fname[-1]     # \"0\"\n",
    "\n",
    "            audio_dir = os.path.join(\n",
    "                wave_root,\n",
    "                f\"SPEAKER{speaker_id}\",\n",
    "                f\"SESSION{session_id}\"\n",
    "            )\n",
    "            if not os.path.isdir(audio_dir):\n",
    "                print(f\"[!] Missing audio folder {audio_dir}, skipping.\")\n",
    "                continue\n",
    "\n",
    "            # build a small DF of all matched .wav files\n",
    "            df = prepare_dataset(transcripts, audio_dir)\n",
    "            df[\"channel\"] = channel\n",
    "            df[\"speaker\"] = speaker_id\n",
    "            df[\"session\"] = session_id\n",
    "\n",
    "            all_dfs.append(df)\n",
    "\n",
    "    if all_dfs:\n",
    "        return pd.concat(all_dfs, ignore_index=True)\n",
    "    else:\n",
    "        return pd.DataFrame(\n",
    "            columns=[\"audio_path\",\"text\",\"line_num\",\"channel\",\"speaker\",\"session\"]\n",
    "        )\n",
    "\n",
    "# Usage:\n",
    "# 1. Point to the parent folder that contains CHANNEL0/, CHANNEL1/, etc.\n",
    "root_data_folder = \"./\"\n",
    "df = load_all_channels_data(root_data_folder)\n",
    "print(f\"Total samples collected: {len(df)}\")\n"
   ]
  },
  {
   "cell_type": "markdown",
   "metadata": {},
   "source": [
    "## 3. Data Loading and Preparation\n",
    "\n",
    "Now, let's load the transcripts and prepare our dataset."
   ]
  },
  {
   "cell_type": "code",
   "execution_count": 4,
   "metadata": {},
   "outputs": [
    {
     "name": "stdout",
     "output_type": "stream",
     "text": [
      "Total number of samples: 352\n",
      "Number of unique transcripts: 352\n"
     ]
    }
   ],
   "source": [
    "# Get dataset stats\n",
    "print(f\"Total number of samples: {len(df)}\")\n",
    "print(f\"Number of unique transcripts: {df['text'].nunique()}\")"
   ]
  },
  {
   "cell_type": "code",
   "execution_count": 5,
   "metadata": {},
   "outputs": [
    {
     "data": {
      "text/html": [
       "<div>\n",
       "<style scoped>\n",
       "    .dataframe tbody tr th:only-of-type {\n",
       "        vertical-align: middle;\n",
       "    }\n",
       "\n",
       "    .dataframe tbody tr th {\n",
       "        vertical-align: top;\n",
       "    }\n",
       "\n",
       "    .dataframe thead th {\n",
       "        text-align: right;\n",
       "    }\n",
       "</style>\n",
       "<table border=\"1\" class=\"dataframe\">\n",
       "  <thead>\n",
       "    <tr style=\"text-align: right;\">\n",
       "      <th></th>\n",
       "      <th>audio_path</th>\n",
       "      <th>text</th>\n",
       "      <th>line_num</th>\n",
       "      <th>channel</th>\n",
       "      <th>speaker</th>\n",
       "      <th>session</th>\n",
       "    </tr>\n",
       "  </thead>\n",
       "  <tbody>\n",
       "    <tr>\n",
       "      <th>0</th>\n",
       "      <td>./CHANNEL0\\WAVE\\SPEAKER0001\\SESSION0\\000010002...</td>\n",
       "      <td>She won a car because she was the twelfth pers...</td>\n",
       "      <td>000010002</td>\n",
       "      <td>CHANNEL0</td>\n",
       "      <td>0001</td>\n",
       "      <td>0</td>\n",
       "    </tr>\n",
       "    <tr>\n",
       "      <th>1</th>\n",
       "      <td>./CHANNEL0\\WAVE\\SPEAKER0001\\SESSION0\\000010003...</td>\n",
       "      <td>As they walked back, they were shocked to see ...</td>\n",
       "      <td>000010003</td>\n",
       "      <td>CHANNEL0</td>\n",
       "      <td>0001</td>\n",
       "      <td>0</td>\n",
       "    </tr>\n",
       "    <tr>\n",
       "      <th>2</th>\n",
       "      <td>./CHANNEL0\\WAVE\\SPEAKER0001\\SESSION0\\000010005...</td>\n",
       "      <td>Heavy rains caused a flood in the village.</td>\n",
       "      <td>000010005</td>\n",
       "      <td>CHANNEL0</td>\n",
       "      <td>0001</td>\n",
       "      <td>0</td>\n",
       "    </tr>\n",
       "    <tr>\n",
       "      <th>3</th>\n",
       "      <td>./CHANNEL0\\WAVE\\SPEAKER0001\\SESSION0\\000010006...</td>\n",
       "      <td>He gulped down his beer.</td>\n",
       "      <td>000010006</td>\n",
       "      <td>CHANNEL0</td>\n",
       "      <td>0001</td>\n",
       "      <td>0</td>\n",
       "    </tr>\n",
       "    <tr>\n",
       "      <th>4</th>\n",
       "      <td>./CHANNEL0\\WAVE\\SPEAKER0001\\SESSION0\\000010007...</td>\n",
       "      <td>Some people go to court to fight for their pri...</td>\n",
       "      <td>000010007</td>\n",
       "      <td>CHANNEL0</td>\n",
       "      <td>0001</td>\n",
       "      <td>0</td>\n",
       "    </tr>\n",
       "  </tbody>\n",
       "</table>\n",
       "</div>"
      ],
      "text/plain": [
       "                                          audio_path  \\\n",
       "0  ./CHANNEL0\\WAVE\\SPEAKER0001\\SESSION0\\000010002...   \n",
       "1  ./CHANNEL0\\WAVE\\SPEAKER0001\\SESSION0\\000010003...   \n",
       "2  ./CHANNEL0\\WAVE\\SPEAKER0001\\SESSION0\\000010005...   \n",
       "3  ./CHANNEL0\\WAVE\\SPEAKER0001\\SESSION0\\000010006...   \n",
       "4  ./CHANNEL0\\WAVE\\SPEAKER0001\\SESSION0\\000010007...   \n",
       "\n",
       "                                                text   line_num   channel  \\\n",
       "0  She won a car because she was the twelfth pers...  000010002  CHANNEL0   \n",
       "1  As they walked back, they were shocked to see ...  000010003  CHANNEL0   \n",
       "2         Heavy rains caused a flood in the village.  000010005  CHANNEL0   \n",
       "3                           He gulped down his beer.  000010006  CHANNEL0   \n",
       "4  Some people go to court to fight for their pri...  000010007  CHANNEL0   \n",
       "\n",
       "  speaker session  \n",
       "0    0001       0  \n",
       "1    0001       0  \n",
       "2    0001       0  \n",
       "3    0001       0  \n",
       "4    0001       0  "
      ]
     },
     "execution_count": 5,
     "metadata": {},
     "output_type": "execute_result"
    }
   ],
   "source": [
    "df.head()"
   ]
  },
  {
   "cell_type": "code",
   "execution_count": 6,
   "metadata": {},
   "outputs": [
    {
     "name": "stdout",
     "output_type": "stream",
     "text": [
      "Train set size: 281, Test set size: 71\n"
     ]
    }
   ],
   "source": [
    "# 3. Split into train and test sets (80/20 split)\n",
    "df = df.sample(frac=1, random_state=42).reset_index(drop=True)  # Shuffle\n",
    "split_idx = int(len(df) * 0.8)\n",
    "train_df = df[:split_idx]\n",
    "test_df = df[split_idx:]\n",
    "\n",
    "print(f\"Train set size: {len(train_df)}, Test set size: {len(test_df)}\")"
   ]
  },
  {
   "cell_type": "code",
   "execution_count": 7,
   "metadata": {},
   "outputs": [
    {
     "name": "stdout",
     "output_type": "stream",
     "text": [
      "{'audio_path': {'path': './CHANNEL0\\\\WAVE\\\\SPEAKER0001\\\\SESSION0\\\\000010264.WAV', 'array': array([-1.03759766e-03, -8.17871094e-03, -7.81250000e-03, ...,\n",
      "        6.10351562e-05,  9.15527344e-05,  3.05175781e-05]), 'sampling_rate': 16000}, 'text': 'In the last two years, eight Indonesian domestic helpers were also deported after they were found to be radicalised.', 'line_num': '000010264', 'channel': 'CHANNEL0', 'speaker': '0001', 'session': '0'}\n"
     ]
    }
   ],
   "source": [
    "# 4. Convert to HF datasets\n",
    "train_dataset = create_hf_dataset(train_df)\n",
    "test_dataset = create_hf_dataset(test_df)\n",
    "\n",
    "# Examine the dataset\n",
    "print(train_dataset[0])"
   ]
  },
  {
   "cell_type": "markdown",
   "metadata": {},
   "source": [
    "### Create Bayesian Whisper Model Class"
   ]
  },
  {
   "cell_type": "code",
   "execution_count": 10,
   "metadata": {},
   "outputs": [],
   "source": [
    "# 1) import the base output and dataclass\n",
    "from dataclasses import dataclass\n",
    "from transformers.modeling_outputs import Seq2SeqLMOutput\n",
    "from transformers.models.whisper.modeling_whisper import shift_tokens_right\n",
    "import torch.nn as nn\n",
    "import torch\n",
    "\n",
    "# 2) define your new output type\n",
    "@dataclass\n",
    "class BayesianSeq2SeqLMOutput(Seq2SeqLMOutput):\n",
    "    # we add one extra field: per‑token log‑variance\n",
    "    uncertainty: torch.FloatTensor = None\n",
    "\n",
    "\n",
    "class BayesianWhisperForConditionalGeneration(WhisperForConditionalGeneration):\n",
    "    def __init__(self, config):\n",
    "        super().__init__(config)\n",
    "        # a little head to predict log-variance per token\n",
    "        self.uncertainty_head = nn.Linear(config.d_model, 1)\n",
    "        nn.init.normal_(self.uncertainty_head.weight, mean=0.0, std=1e-2)\n",
    "        nn.init.constant_(self.uncertainty_head.bias, 0.0)\n",
    "\n",
    "    def forward(\n",
    "        self,\n",
    "        input_features=None,\n",
    "        attention_mask=None,\n",
    "        decoder_input_ids=None,\n",
    "        decoder_attention_mask=None,\n",
    "        labels=None,\n",
    "        output_hidden_states=True,\n",
    "        return_dict=True,\n",
    "        **kwargs,\n",
    "    ):\n",
    "        \n",
    "        if labels is not None and decoder_input_ids is None:\n",
    "            decoder_input_ids = shift_tokens_right(\n",
    "               labels,\n",
    "               self.config.pad_token_id,\n",
    "               self.config.decoder_start_token_id,\n",
    "            )\n",
    "           \n",
    "        # 3) run the normal Whisper forward pass\n",
    "        outputs = super().forward(\n",
    "            input_features=input_features,\n",
    "            attention_mask=attention_mask,\n",
    "            decoder_input_ids=decoder_input_ids,\n",
    "            decoder_attention_mask=decoder_attention_mask,\n",
    "            output_hidden_states=output_hidden_states,\n",
    "            return_dict=return_dict,\n",
    "            **kwargs,\n",
    "        )\n",
    "        # 4) grab the last decoder hidden state\n",
    "        last_hidden = outputs.decoder_hidden_states[-1]        # (B, L, D)\n",
    "        # 5) compute aleatoric head: (B, L, 1)\n",
    "        log_var = self.uncertainty_head(last_hidden)\n",
    "        log_var = torch.clamp(log_var, min=-10.0, max=10.0)\n",
    "\n",
    "        # 6) now return your custom output class\n",
    "        return BayesianSeq2SeqLMOutput(\n",
    "            loss=outputs.loss,\n",
    "            logits=outputs.logits,\n",
    "            past_key_values=outputs.past_key_values,\n",
    "            decoder_hidden_states=outputs.decoder_hidden_states,\n",
    "            decoder_attentions=outputs.decoder_attentions,\n",
    "            cross_attentions=outputs.cross_attentions,\n",
    "            encoder_last_hidden_state=outputs.encoder_last_hidden_state,\n",
    "            encoder_hidden_states=outputs.encoder_hidden_states,\n",
    "            encoder_attentions=outputs.encoder_attentions,\n",
    "            # ← this extra field is now accepted\n",
    "            uncertainty=log_var,\n",
    "        )\n",
    "\n",
    "    def enable_mc_dropout(self):\n",
    "        # turn on Dropout layers at inference time to sample epistemic uncertainty\n",
    "        def _apply_dropout(m):\n",
    "            if isinstance(m, nn.Dropout):\n",
    "                m.train()\n",
    "        self.model.apply(_apply_dropout)\n"
   ]
  },
  {
   "cell_type": "markdown",
   "metadata": {},
   "source": [
    "## 4. Model Loading and Data Preparation for Training\n",
    "\n",
    "Let's load the Whisper model and prepare our datasets for fine-tuning."
   ]
  },
  {
   "cell_type": "code",
   "execution_count": 11,
   "metadata": {},
   "outputs": [
    {
     "name": "stdout",
     "output_type": "stream",
     "text": [
      "Loading Whisper model...\n"
     ]
    },
    {
     "name": "stderr",
     "output_type": "stream",
     "text": [
      "Some weights of BayesianWhisperForConditionalGeneration were not initialized from the model checkpoint at openai/whisper-small and are newly initialized: ['uncertainty_head.bias', 'uncertainty_head.weight']\n",
      "You should probably TRAIN this model on a down-stream task to be able to use it for predictions and inference.\n"
     ]
    }
   ],
   "source": [
    "# 5. Load Whisper model and processor\n",
    "print(\"Loading Whisper model...\")\n",
    "model_name = \"openai/whisper-small\"  # You can choose different model sizes (tiny, base, small, medium, large)\n",
    "processor = WhisperProcessor.from_pretrained(model_name)\n",
    "model = BayesianWhisperForConditionalGeneration.from_pretrained(\"openai/whisper-small\")"
   ]
  },
  {
   "cell_type": "code",
   "execution_count": 12,
   "metadata": {
    "scrolled": true
   },
   "outputs": [
    {
     "name": "stdout",
     "output_type": "stream",
     "text": [
      "Processing datasets for Whisper...\n"
     ]
    },
    {
     "data": {
      "application/vnd.jupyter.widget-view+json": {
       "model_id": "27d78fce3eee40b5885ac8d917915ac1",
       "version_major": 2,
       "version_minor": 0
      },
      "text/plain": [
       "Map:   0%|          | 0/281 [00:00<?, ? examples/s]"
      ]
     },
     "metadata": {},
     "output_type": "display_data"
    },
    {
     "data": {
      "application/vnd.jupyter.widget-view+json": {
       "model_id": "dc3826810f1d45e699c9812a777d75e7",
       "version_major": 2,
       "version_minor": 0
      },
      "text/plain": [
       "Map:   0%|          | 0/71 [00:00<?, ? examples/s]"
      ]
     },
     "metadata": {},
     "output_type": "display_data"
    }
   ],
   "source": [
    "# 6. Prepare datasets for training\n",
    "print(\"Processing datasets for Whisper...\")\n",
    "train_dataset = train_dataset.map(\n",
    "    lambda x: prepare_dataset_for_whisper(x, processor),\n",
    "    remove_columns=train_dataset.column_names)\n",
    "\n",
    "test_dataset = test_dataset.map(\n",
    "    lambda x: prepare_dataset_for_whisper(x, processor),\n",
    "    remove_columns=test_dataset.column_names)"
   ]
  },
  {
   "cell_type": "markdown",
   "metadata": {},
   "source": [
    "## 5. Model Fine-tuning\n",
    "\n",
    "Now let's set up the trainer and fine-tune our model."
   ]
  },
  {
   "cell_type": "code",
   "execution_count": 13,
   "metadata": {},
   "outputs": [],
   "source": [
    "def heteroscedastic_loss(logits, labels, uncertainty):\n",
    "    \"\"\"\n",
    "    Heteroscedastic loss function that weighs errors by their uncertainty.\n",
    "    \n",
    "    Args:\n",
    "        logits: Model predictions (B, L, V)\n",
    "        labels: Ground truth labels (B, L)\n",
    "        uncertainty: Predicted uncertainty (B, L, 1)\n",
    "    \n",
    "    Returns:\n",
    "        The uncertainty-weighted loss\n",
    "    \"\"\"    \n",
    "    # Create a mask for valid tokens (not padding)\n",
    "    mask = (labels != -100).float()\n",
    "    \n",
    "    # Get the predicted token probabilities\n",
    "    log_probs = torch.log_softmax(logits, dim=-1)\n",
    "    \n",
    "    # Get the log probability of the correct token for each position\n",
    "    # First convert -100 labels to 0 to avoid indexing errors\n",
    "    gathered_labels = torch.clone(labels)\n",
    "    gathered_labels[gathered_labels == -100] = 0\n",
    "    \n",
    "    # Gather the log probabilities for the correct tokens\n",
    "    gathered_logits = log_probs.gather(dim=-1, index=gathered_labels.unsqueeze(-1)).squeeze(-1)\n",
    "    \n",
    "    # Scale loss by the predicted precision (exp(-uncertainty))\n",
    "    # Higher uncertainty = lower precision = lower loss weight\n",
    "    uncertainty = uncertainty.squeeze(-1)  # (B, L)\n",
    "    precision = torch.exp(-uncertainty)\n",
    "    \n",
    "    # Compute the weighted negative log likelihood\n",
    "    weighted_nll = -precision * gathered_logits + 0.5 * uncertainty\n",
    "    \n",
    "    # Apply mask to ignore padding tokens\n",
    "    masked_loss = weighted_nll * mask\n",
    "    \n",
    "    # Compute mean over non-padding tokens\n",
    "    loss = masked_loss.sum() / (mask.sum() + 1e-8)\n",
    "    \n",
    "    return loss"
   ]
  },
  {
   "cell_type": "code",
   "execution_count": 14,
   "metadata": {},
   "outputs": [],
   "source": [
    "from transformers import Seq2SeqTrainer\n",
    "\n",
    "class BayesianTrainer(Seq2SeqTrainer):\n",
    "    def __init__(self, *args, **kwargs):\n",
    "        super().__init__(*args, **kwargs)\n",
    "        if isinstance(self.model, BayesianWhisperForConditionalGeneration):\n",
    "           self.model.enable_mc_dropout()\n",
    "    def compute_loss(self, model, inputs, return_outputs=False,**kwargs):\n",
    "        outputs = model(**inputs)\n",
    "        loss = heteroscedastic_loss(outputs.logits, inputs[\"labels\"], outputs.uncertainty)\n",
    "        return (loss, outputs) if return_outputs else loss\n",
    "\n",
    "    def prediction_step(self, model, inputs, *args, **kwargs):\n",
    "        if isinstance(model, BayesianWhisperForConditionalGeneration):\n",
    "            model.enable_mc_dropout()\n",
    "        return super().prediction_step(model, inputs, *args, **kwargs)\n"
   ]
  },
  {
   "cell_type": "code",
   "execution_count": 15,
   "metadata": {},
   "outputs": [],
   "source": [
    "# 7 set up trainning args\n",
    "training_args = Seq2SeqTrainingArguments(\n",
    "    output_dir=\"./whisper-singlish\",\n",
    "\n",
    "    per_device_train_batch_size = 8,\n",
    "    gradient_accumulation_steps = 2,\n",
    "\n",
    "    learning_rate      = 1e-5,\n",
    "    fp16               = False,           # if you have a GPU change to True\n",
    "    gradient_checkpointing = True,\n",
    "\n",
    "    # → train for 5 full epochs (~1,670 steps)\n",
    "    #num_train_epochs   = 5,     \n",
    "    num_train_epochs   = 1,     \n",
    "    # or: max_steps    = 334 * 5,\n",
    "\n",
    "    # warm up for 10% of steps\n",
    "    warmup_ratio       = 0.1,   \n",
    "    # or: warmup_steps = int(0.1 * (334 * 5)),\n",
    "\n",
    "    # evaluate & save once per epoch\n",
    "    eval_strategy      = \"steps\",\n",
    "    eval_steps         = 50, #300,\n",
    "    save_strategy      = \"steps\",\n",
    "    save_steps         = 50, #300,\n",
    "    save_total_limit   = 2,\n",
    "\n",
    "    predict_with_generate = True,\n",
    "    generation_max_length = 225,\n",
    "    load_best_model_at_end = True,\n",
    "\n",
    "    remove_unused_columns = False,\n",
    ")\n"
   ]
  },
  {
   "cell_type": "code",
   "execution_count": 16,
   "metadata": {},
   "outputs": [],
   "source": [
    "# Define a function to compute metrics for evaluation\n",
    "def compute_metrics_wrapper(pred):\n",
    "    return compute_metrics(pred, processor)"
   ]
  },
  {
   "cell_type": "code",
   "execution_count": 17,
   "metadata": {},
   "outputs": [
    {
     "name": "stderr",
     "output_type": "stream",
     "text": [
      "Passing a tuple of `past_key_values` is deprecated and will be removed in Transformers v4.43.0. You should pass an instance of `EncoderDecoderCache` instead, e.g. `past_key_values=EncoderDecoderCache.from_legacy_cache(past_key_values)`.\n",
      "`use_cache = True` is incompatible with gradient checkpointing. Setting `use_cache = False`...\n",
      "D:\\softwares\\Anaconda\\envs\\deeplearn_course\\lib\\site-packages\\torch\\utils\\checkpoint.py:295: FutureWarning: `torch.cpu.amp.autocast(args...)` is deprecated. Please use `torch.amp.autocast('cpu', args...)` instead.\n",
      "  with torch.enable_grad(), device_autocast_ctx, torch.cpu.amp.autocast(**ctx.cpu_autocast_kwargs):  # type: ignore[attr-defined]\n"
     ]
    },
    {
     "data": {
      "text/html": [
       "\n",
       "    <div>\n",
       "      \n",
       "      <progress value='18' max='18' style='width:300px; height:20px; vertical-align: middle;'></progress>\n",
       "      [18/18 1:45:40, Epoch 1/1]\n",
       "    </div>\n",
       "    <table border=\"1\" class=\"dataframe\">\n",
       "  <thead>\n",
       " <tr style=\"text-align: left;\">\n",
       "      <th>Step</th>\n",
       "      <th>Training Loss</th>\n",
       "      <th>Validation Loss</th>\n",
       "    </tr>\n",
       "  </thead>\n",
       "  <tbody>\n",
       "  </tbody>\n",
       "</table><p>"
      ],
      "text/plain": [
       "<IPython.core.display.HTML object>"
      ]
     },
     "metadata": {},
     "output_type": "display_data"
    },
    {
     "name": "stderr",
     "output_type": "stream",
     "text": [
      "D:\\softwares\\Anaconda\\envs\\deeplearn_course\\lib\\site-packages\\transformers\\modeling_utils.py:2817: UserWarning: Moving the following attributes in the config to the generation config: {'max_length': 448, 'suppress_tokens': [1, 2, 7, 8, 9, 10, 14, 25, 26, 27, 28, 29, 31, 58, 59, 60, 61, 62, 63, 90, 91, 92, 93, 359, 503, 522, 542, 873, 893, 902, 918, 922, 931, 1350, 1853, 1982, 2460, 2627, 3246, 3253, 3268, 3536, 3846, 3961, 4183, 4667, 6585, 6647, 7273, 9061, 9383, 10428, 10929, 11938, 12033, 12331, 12562, 13793, 14157, 14635, 15265, 15618, 16553, 16604, 18362, 18956, 20075, 21675, 22520, 26130, 26161, 26435, 28279, 29464, 31650, 32302, 32470, 36865, 42863, 47425, 49870, 50254, 50258, 50360, 50361, 50362], 'begin_suppress_tokens': [220, 50257]}. You are seeing this warning because you've set generation parameters in the model config, as opposed to in the generation config.\n",
      "  warnings.warn(\n"
     ]
    },
    {
     "data": {
      "text/plain": [
       "TrainOutput(global_step=18, training_loss=17.137990315755207, metrics={'train_runtime': 6581.8265, 'train_samples_per_second': 0.043, 'train_steps_per_second': 0.003, 'total_flos': 8.109280865808e+16, 'train_loss': 17.137990315755207, 'epoch': 1.0})"
      ]
     },
     "execution_count": 17,
     "metadata": {},
     "output_type": "execute_result"
    }
   ],
   "source": [
    "trainer = BayesianTrainer(\n",
    "    model   = model,\n",
    "    args=training_args,\n",
    "    train_dataset=train_dataset,\n",
    "    eval_dataset=test_dataset,\n",
    "    compute_metrics=compute_metrics_wrapper,\n",
    ")\n",
    "trainer.train()"
   ]
  },
  {
   "cell_type": "code",
   "execution_count": 18,
   "metadata": {},
   "outputs": [
    {
     "name": "stdout",
     "output_type": "stream",
     "text": [
      "Model saved to ./whisper-singlish-final\n"
     ]
    }
   ],
   "source": [
    "# 10. Save the fine-tuned model\n",
    "model_save_path = \"./whisper-singlish-final\"\n",
    "trainer.save_model(model_save_path)\n",
    "processor.save_pretrained(model_save_path)\n",
    "print(f\"Model saved to {model_save_path}\")"
   ]
  },
  {
   "cell_type": "markdown",
   "metadata": {},
   "source": [
    "## 6. Model Evaluation\n",
    "\n",
    "Now let's evaluate our fine-tuned model on the test set and save the results for comparison."
   ]
  },
  {
   "cell_type": "code",
   "execution_count": 19,
   "metadata": {},
   "outputs": [
    {
     "name": "stdout",
     "output_type": "stream",
     "text": [
      "Evaluating model on test set...\n"
     ]
    },
    {
     "name": "stderr",
     "output_type": "stream",
     "text": [
      "Evaluating:   0%|                                                                                                                      | 0/71 [00:00<?, ?it/s]Due to a bug fix in https://github.com/huggingface/transformers/pull/28687 transcription using a multilingual Whisper will default to language detection followed by transcription instead of translation to English.This might be a breaking change for your use case. If you want to instead always translate your audio to English, make sure to pass `language='en'`.\n",
      "The attention mask is not set and cannot be inferred from input because pad token is same as eos token. As a consequence, you may observe unexpected behavior. Please pass your input's `attention_mask` to obtain reliable results.\n",
      "Evaluating: 100%|█████████████████████████████████████████████████████████████████████████████████████████████████████████████| 71/71 [07:38<00:00,  6.45s/it]\n"
     ]
    }
   ],
   "source": [
    "# 11. Evaluate on test set and save predictions\n",
    "print(\"Evaluating model on test set...\")\n",
    "results = []\n",
    "\n",
    "model.to(device)\n",
    "model.eval()\n",
    "\n",
    "for idx, row in tqdm(test_df.iterrows(), total=len(test_df), desc=\"Evaluating\"):\n",
    "    audio_path = row[\"audio_path\"]\n",
    "    reference_text = row[\"text\"]\n",
    "    line_num = row[\"line_num\"]\n",
    "    \n",
    "    # Load audio\n",
    "    waveform, sample_rate = torchaudio.load(audio_path)\n",
    "    \n",
    "    # Resample to 16kHz if needed\n",
    "    if sample_rate != 16000:\n",
    "        waveform = torchaudio.functional.resample(\n",
    "            waveform, \n",
    "            orig_freq=sample_rate, \n",
    "            new_freq=16000\n",
    "        )\n",
    "        sample_rate = 16000\n",
    "    \n",
    "    # Process for model input\n",
    "    input_features = processor.feature_extractor(\n",
    "        waveform.squeeze().numpy(), \n",
    "        sampling_rate=sample_rate,\n",
    "        return_tensors=\"pt\"\n",
    "    ).input_features.to(device)\n",
    "    \n",
    "    # Generate prediction\n",
    "    with torch.no_grad():\n",
    "        predicted_ids = model.generate(input_features)\n",
    "        transcription = processor.batch_decode(predicted_ids, skip_special_tokens=True)[0]\n",
    "    \n",
    "    results.append({\n",
    "        \"line_num\": line_num,\n",
    "        \"reference\": reference_text.lower(),\n",
    "        \"prediction\": transcription.lower()\n",
    "    })"
   ]
  },
  {
   "cell_type": "code",
   "execution_count": 20,
   "metadata": {},
   "outputs": [
    {
     "name": "stdout",
     "output_type": "stream",
     "text": [
      "Evaluation results saved to singlish_asr_results.csv\n"
     ]
    },
    {
     "data": {
      "text/html": [
       "<div>\n",
       "<style scoped>\n",
       "    .dataframe tbody tr th:only-of-type {\n",
       "        vertical-align: middle;\n",
       "    }\n",
       "\n",
       "    .dataframe tbody tr th {\n",
       "        vertical-align: top;\n",
       "    }\n",
       "\n",
       "    .dataframe thead th {\n",
       "        text-align: right;\n",
       "    }\n",
       "</style>\n",
       "<table border=\"1\" class=\"dataframe\">\n",
       "  <thead>\n",
       "    <tr style=\"text-align: right;\">\n",
       "      <th></th>\n",
       "      <th>line_num</th>\n",
       "      <th>reference</th>\n",
       "      <th>prediction</th>\n",
       "    </tr>\n",
       "  </thead>\n",
       "  <tbody>\n",
       "    <tr>\n",
       "      <th>0</th>\n",
       "      <td>000010351</td>\n",
       "      <td>and the introvert is most definitely not a shy...</td>\n",
       "      <td>dan introvert adalah terbaiknya bukan orang y...</td>\n",
       "    </tr>\n",
       "    <tr>\n",
       "      <th>1</th>\n",
       "      <td>000010273</td>\n",
       "      <td>for example, it recommended increasing the cas...</td>\n",
       "      <td>untuk menunjukkan, ia menyebabkan kembali kel...</td>\n",
       "    </tr>\n",
       "    <tr>\n",
       "      <th>2</th>\n",
       "      <td>000010241</td>\n",
       "      <td>bosch had nothing to do with the animal experi...</td>\n",
       "      <td>bos tak ada apa-apa untuk dibuat dengan ekspe...</td>\n",
       "    </tr>\n",
       "    <tr>\n",
       "      <th>3</th>\n",
       "      <td>000010246</td>\n",
       "      <td>he came by, and his people expected him to be ...</td>\n",
       "      <td>dia datang beli dan orangnya menunggu dia unt...</td>\n",
       "    </tr>\n",
       "    <tr>\n",
       "      <th>4</th>\n",
       "      <td>000010367</td>\n",
       "      <td>this is why we want to preserve our hawker her...</td>\n",
       "      <td>ini sebabnya kita mahu menghormati hocker kita.</td>\n",
       "    </tr>\n",
       "  </tbody>\n",
       "</table>\n",
       "</div>"
      ],
      "text/plain": [
       "    line_num                                          reference  \\\n",
       "0  000010351  and the introvert is most definitely not a shy...   \n",
       "1  000010273  for example, it recommended increasing the cas...   \n",
       "2  000010241  bosch had nothing to do with the animal experi...   \n",
       "3  000010246  he came by, and his people expected him to be ...   \n",
       "4  000010367  this is why we want to preserve our hawker her...   \n",
       "\n",
       "                                          prediction  \n",
       "0   dan introvert adalah terbaiknya bukan orang y...  \n",
       "1   untuk menunjukkan, ia menyebabkan kembali kel...  \n",
       "2   bos tak ada apa-apa untuk dibuat dengan ekspe...  \n",
       "3   dia datang beli dan orangnya menunggu dia unt...  \n",
       "4    ini sebabnya kita mahu menghormati hocker kita.  "
      ]
     },
     "execution_count": 20,
     "metadata": {},
     "output_type": "execute_result"
    }
   ],
   "source": [
    "# Save results to CSV\n",
    "results_df = pd.DataFrame(results)\n",
    "results_df.to_csv(\"singlish_asr_results.csv\", index=False)\n",
    "print(\"Evaluation results saved to singlish_asr_results.csv\")\n",
    "\n",
    "# Display the first few results\n",
    "results_df.head()"
   ]
  },
  {
   "cell_type": "code",
   "execution_count": 21,
   "metadata": {},
   "outputs": [
    {
     "name": "stdout",
     "output_type": "stream",
     "text": [
      "Test set WER: 0.9449\n"
     ]
    }
   ],
   "source": [
    "# Calculate and display WER on the test set\n",
    "total_wer = wer(results_df[\"reference\"].tolist(), results_df[\"prediction\"].tolist())\n",
    "print(f\"Test set WER: {total_wer:.4f}\")"
   ]
  },
  {
   "cell_type": "code",
   "execution_count": 22,
   "metadata": {},
   "outputs": [
    {
     "data": {
      "image/png": "[encoded data removed]",
      "text/plain": [
       "<Figure size 1500x1000 with 5 Axes>"
      ]
     },
     "metadata": {},
     "output_type": "display_data"
    },
    {
     "name": "stdout",
     "output_type": "stream",
     "text": [
      "Example predictions plot saved to prediction_examples.png\n"
     ]
    }
   ],
   "source": [
    "# Plot a few examples\n",
    "plot_examples = min(5, len(results_df))\n",
    "plt.figure(figsize=(15, 10))\n",
    "for i in range(plot_examples):\n",
    "    plt.subplot(plot_examples, 1, i+1)\n",
    "    plt.barh([\"Reference\", \"Prediction\"], [1, 1], color=[\"blue\", \"green\"])\n",
    "    plt.title(f\"Example {i+1} (Line {results_df.iloc[i]['line_num']})\", fontsize=12)\n",
    "    plt.text(1.05, 0, results_df.iloc[i][\"reference\"], fontsize=10)\n",
    "    plt.text(1.05, 1, results_df.iloc[i][\"prediction\"], fontsize=10)\n",
    "    plt.tight_layout()\n",
    "\n",
    "plt.savefig(\"prediction_examples.png\")\n",
    "plt.show()\n",
    "print(\"Example predictions plot saved to prediction_examples.png\")"
   ]
  },
  {
   "cell_type": "code",
   "execution_count": 24,
   "metadata": {},
   "outputs": [
    {
     "name": "stdout",
     "output_type": "stream",
     "text": [
      "Model saved to ./whisper-singlish-final_hetero_with_mc\n"
     ]
    }
   ],
   "source": [
    "# 10. Save the fine-tuned model\n",
    "model_save_path = \"./whisper-singlish-final_hetero_with_mc\"\n",
    "trainer.save_model(model_save_path)\n",
    "processor.save_pretrained(model_save_path)\n",
    "print(f\"Model saved to {model_save_path}\")"
   ]
  },
  {
   "cell_type": "code",
   "execution_count": null,
   "metadata": {},
   "outputs": [],
   "source": [
    "def mc_dropout_generate(model, input_features, processor, n_samples=20):\n",
    "    model.eval()\n",
    "    model.enable_mc_dropout()\n",
    "\n",
    "    all_predicted_ids = []\n",
    "\n",
    "    for _ in range(n_samples):\n",
    "        with torch.no_grad():\n",
    "            generated_ids = model.generate(\n",
    "                input_features=input_features,\n",
    "                do_sample=False,  # no random sampling, just dropout randomness\n",
    "                max_length=225,\n",
    "                return_dict_in_generate=True,\n",
    "                output_scores=True,\n",
    "            ).sequences  # (B, L)\n",
    "            all_predicted_ids.append(generated_ids)\n",
    "\n",
    "    all_predicted_ids = torch.stack(all_predicted_ids, dim=0)  # (n_samples, B, L)\n",
    "\n",
    "    return all_predicted_ids\n",
    "\n",
    "\n",
    "# 1. Generate multiple outputs with MC dropout\n",
    "all_predicted_ids = mc_dropout_generate(model, input_features, processor, n_samples=20)\n",
    "\n",
    "# 2. Mean (mode) prediction\n",
    "mean_predicted_ids = all_predicted_ids.mode(dim=0).values.squeeze(0)  # (L,)\n",
    "\n",
    "# 2.1 REMOVE padding tokens\n",
    "# Assuming pad_token_id = processor.tokenizer.pad_token_id\n",
    "pad_token_id = processor.tokenizer.pad_token_id\n",
    "valid_positions = mean_predicted_ids != pad_token_id\n",
    "mean_predicted_ids = mean_predicted_ids[valid_positions]\n",
    "token_uncertainty = (all_predicted_ids != mean_predicted_ids.unsqueeze(0)).float()\n",
    "token_uncertainty = token_uncertainty.mean(dim=0).squeeze(0)[valid_positions]  # (L_real,)\n",
    "\n",
    "# 3. Decode text normally\n",
    "decoded_text = processor.batch_decode(\n",
    "    mean_predicted_ids.unsqueeze(0),\n",
    "    skip_special_tokens=True,\n",
    ")[0]\n",
    "\n",
    "# 4. Split text into words\n",
    "words = decoded_text.strip().split(' ')\n",
    "\n",
    "# 5. Map uncertainty\n",
    "word_uncertainties = []\n",
    "if len(words) == 0 or len(token_uncertainty) == 0:\n",
    "    word_uncertainties = []\n",
    "else:\n",
    "    num_real_tokens = len(token_uncertainty)\n",
    "    num_words = len(words)\n",
    "    \n",
    "    if num_real_tokens >= num_words:\n",
    "        token_chunks = torch.chunk(token_uncertainty, num_words)\n",
    "    else:\n",
    "        # More words than tokens: safe fallback\n",
    "        token_chunks = [token_uncertainty.new_tensor([])] * num_words\n",
    "        for i in range(num_real_tokens):\n",
    "            token_chunks[i] = token_uncertainty[i:i+1]\n",
    "\n",
    "    for word, token_chunk in zip(words, token_chunks):\n",
    "        if len(token_chunk) > 0:\n",
    "            word_uncertainty = token_chunk.mean().item()\n",
    "        else:\n",
    "            word_uncertainty = 0.0\n",
    "        word_uncertainties.append({\n",
    "            \"word\": word,\n",
    "            \"uncertainty\": word_uncertainty\n",
    "        })\n",
    "\n",
    "# 6. Save\n",
    "results.append({\n",
    "    \"line_num\": line_num,\n",
    "    \"reference\": reference_text.lower(),\n",
    "    \"prediction\": decoded_text.lower(),\n",
    "    \"word_uncertainty\": word_uncertainties\n",
    "})\n",
    "\n"
   ]
  },
  {
   "cell_type": "markdown",
   "metadata": {},
   "source": [
    "## 7. Detailed Error Analysis\n",
    "\n",
    "Let's perform a more detailed analysis of the ASR results to understand the model's performance better."
   ]
  },
  {
   "cell_type": "code",
   "execution_count": null,
   "metadata": {},
   "outputs": [],
   "source": [
    "# Calculate WER for each sample\n",
    "results_df['wer'] = results_df.apply(lambda row: wer(row['reference'], row['prediction']), axis=1)\n",
    "\n",
    "# Basic statistics\n",
    "print(f\"Overall WER: {results_df['wer'].mean():.4f}\")\n",
    "print(f\"Median WER: {results_df['wer'].median():.4f}\")\n",
    "print(f\"Min WER: {results_df['wer'].min():.4f}\")\n",
    "print(f\"Max WER: {results_df['wer'].max():.4f}\")"
   ]
  },
  {
   "cell_type": "code",
   "execution_count": null,
   "metadata": {},
   "outputs": [],
   "source": [
    "# Categorize performance\n",
    "results_df['performance'] = pd.cut(\n",
    "    results_df['wer'], \n",
    "    bins=[0, 0.1, 0.3, 0.5, 1.0, float('inf')],\n",
    "    labels=['Excellent', 'Good', 'Fair', 'Poor', 'Very Poor']\n",
    ")\n",
    "\n",
    "performance_counts = results_df['performance'].value_counts().sort_index()\n",
    "print(\"\\nPerformance distribution:\")\n",
    "for category, count in performance_counts.items():\n",
    "    print(f\"{category}: {count} samples ({count/len(results_df)*100:.1f}%)\")"
   ]
  },
  {
   "cell_type": "code",
   "execution_count": null,
   "metadata": {},
   "outputs": [],
   "source": [
    "# 1. Distribution of WER\n",
    "plt.figure(figsize=(12, 6))\n",
    "sns.histplot(results_df['wer'], bins=30, kde=True)\n",
    "plt.title('Distribution of Word Error Rate (WER)', fontsize=14)\n",
    "plt.xlabel('WER', fontsize=12)\n",
    "plt.ylabel('Count', fontsize=12)\n",
    "plt.axvline(results_df['wer'].mean(), color='r', linestyle='--', \n",
    "            label=f'Mean WER: {results_df[\"wer\"].mean():.4f}')\n",
    "plt.legend(fontsize=12)\n",
    "plt.savefig(\"wer_distribution.png\")\n",
    "plt.show()\n",
    "print(\"WER distribution saved to wer_distribution.png\")"
   ]
  },
  {
   "cell_type": "code",
   "execution_count": null,
   "metadata": {},
   "outputs": [],
   "source": [
    "# 2. Performance category pie chart\n",
    "plt.figure(figsize=(10, 7))\n",
    "performance_counts.plot.pie(autopct='%1.1f%%', colors=sns.color_palette(\"viridis\", 5), \n",
    "                            textprops={'fontsize': 12})\n",
    "plt.title('ASR Performance Categories', fontsize=14)\n",
    "plt.ylabel('')\n",
    "plt.savefig(\"performance_categories.png\")\n",
    "plt.show()\n",
    "print(\"Performance categories pie chart saved to performance_categories.png\")"
   ]
  },
  {
   "cell_type": "code",
   "execution_count": null,
   "metadata": {},
   "outputs": [],
   "source": [
    "# 3. Sentence length analysis\n",
    "results_df['ref_length'] = results_df['reference'].apply(lambda x: len(x.split()))\n",
    "\n",
    "plt.figure(figsize=(12, 6))\n",
    "sns.scatterplot(x='ref_length', y='wer', data=results_df, alpha=0.6)\n",
    "plt.title('WER vs. Sentence Length', fontsize=14)\n",
    "plt.xlabel('Reference Sentence Length (words)', fontsize=12)\n",
    "plt.ylabel('WER', fontsize=12)\n",
    "\n",
    "# Add trend line\n",
    "z = np.polyfit(results_df['ref_length'], results_df['wer'], 1)\n",
    "p = np.poly1d(z)\n",
    "plt.plot(sorted(results_df['ref_length']), p(sorted(results_df['ref_length'])), \"r--\", \n",
    "         label=f\"Trend: y={z[0]:.4f}x+{z[1]:.4f}\")\n",
    "\n",
    "plt.legend(fontsize=12)\n",
    "plt.savefig(\"wer_vs_length.png\")\n",
    "plt.show()\n",
    "print(\"WER vs. sentence length analysis saved to wer_vs_length.png\")"
   ]
  },
  {
   "cell_type": "code",
   "execution_count": null,
   "metadata": {},
   "outputs": [],
   "source": [
    "# 4. Error analysis for common Singlish terms\n",
    "# Find words that appear in reference but not in prediction\n",
    "results_df['missed_words'] = results_df.apply(\n",
    "    lambda row: set(row['reference'].lower().split()) - set(row['prediction'].lower().split()), \n",
    "    axis=1\n",
    ")\n",
    "\n",
    "# Flatten the list of missed words\n",
    "all_missed_words = []\n",
    "for word_set in results_df['missed_words']:\n",
    "    all_missed_words.extend(word_set)\n",
    "\n",
    "common_missed = Counter(all_missed_words).most_common(15)\n",
    "\n",
    "plt.figure(figsize=(12, 6))\n",
    "words, counts = zip(*common_missed) if common_missed else ([], [])\n",
    "plt.bar(words, counts)\n",
    "plt.title('Most Commonly Missed Words', fontsize=14)\n",
    "plt.xlabel('Word', fontsize=12)\n",
    "plt.ylabel('Count', fontsize=12)\n",
    "plt.xticks(rotation=45, ha='right', fontsize=10)\n",
    "plt.tight_layout()\n",
    "plt.savefig(\"missed_words.png\")\n",
    "plt.show()\n",
    "print(\"Common missed words analysis saved to missed_words.png\")"
   ]
  },
  {
   "cell_type": "code",
   "execution_count": null,
   "metadata": {},
   "outputs": [],
   "source": [
    "# 5. Find the best and worst samples\n",
    "best_samples = results_df.nsmallest(5, 'wer')\n",
    "worst_samples = results_df.nlargest(5, 'wer')\n",
    "\n",
    "print(\"BEST PERFORMING SAMPLES\")\n",
    "print(\"======================\\n\")\n",
    "        \n",
    "for i, (_, row) in enumerate(best_samples.iterrows()):\n",
    "    print(f\"Sample {i+1} (Line {row['line_num']}) - WER: {row['wer']:.4f}\")\n",
    "    print(f\"Reference: {row['reference']}\")\n",
    "    print(f\"Prediction: {row['prediction']}\\n\")\n",
    "        \n",
    "print(\"\\nWORST PERFORMING SAMPLES\")\n",
    "print(\"=======================\\n\")\n",
    "        \n",
    "for i, (_, row) in enumerate(worst_samples.iterrows()):\n",
    "    print(f\"Sample {i+1} (Line {row['line_num']}) - WER: {row['wer']:.4f}\")\n",
    "    print(f\"Reference: {row['reference']}\")\n",
    "    print(f\"Prediction: {row['prediction']}\\n\")"
   ]
  },
  {
   "cell_type": "code",
   "execution_count": null,
   "metadata": {},
   "outputs": [],
   "source": [
    "# Save analysis results to files\n",
    "with open(\"sample_analysis.txt\", \"w\") as f:\n",
    "    f.write(\"BEST PERFORMING SAMPLES\\n\")\n",
    "    f.write(\"======================\\n\\n\")\n",
    "    \n",
    "    for i, (_, row) in enumerate(best_samples.iterrows()):\n",
    "        f.write(f\"Sample {i+1} (Line {row['line_num']}) - WER: {row['wer']:.4f}\\n\")\n",
    "        f.write(f\"Reference: {row['reference']}\\n\")\n",
    "        f.write(f\"Prediction: {row['prediction']}\\n\\n\")\n",
    "    \n",
    "    f.write(\"\\nWORST PERFORMING SAMPLES\\n\")\n",
    "    f.write(\"=======================\\n\\n\")\n",
    "    \n",
    "    for i, (_, row) in enumerate(worst_samples.iterrows()):\n",
    "        f.write(f\"Sample {i+1} (Line {row['line_num']}) - WER: {row['wer']:.4f}\\n\")\n",
    "        f.write(f\"Reference: {row['reference']}\\n\")\n",
    "        f.write(f\"Prediction: {row['prediction']}\\n\\n\")\n",
    "\n",
    "print(\"Sample analysis saved to sample_analysis.txt\")\n",
    "\n",
    "# Export categorized results for manual review\n",
    "results_df.sort_values('wer').to_csv(\"sorted_results.csv\", index=False)\n",
    "print(\"Sorted results saved to sorted_results.csv\")"
   ]
  },
  {
   "cell_type": "markdown",
   "metadata": {},
   "source": [
    "## 8. Testing the Model with Custom Audio\n",
    "\n",
    "Let's create a function to easily test our fine-tuned model with any audio file."
   ]
  },
  {
   "cell_type": "code",
   "execution_count": null,
   "metadata": {},
   "outputs": [],
   "source": [
    "def transcribe_audio(audio_path, reference=None):\n",
    "    \"\"\"Transcribe a single audio file using the fine-tuned model\"\"\"\n",
    "    # Load audio\n",
    "    waveform, sample_rate = torchaudio.load(audio_path)\n",
    "    \n",
    "    # Process for model input\n",
    "    input_features = processor.feature_extractor(\n",
    "        waveform.squeeze().numpy(), \n",
    "        sampling_rate=sample_rate,\n",
    "        return_tensors=\"pt\"\n",
    "    ).input_features.to(device)\n",
    "    \n",
    "    # Generate prediction\n",
    "    with torch.no_grad():\n",
    "        predicted_ids = model.generate(input_features)\n",
    "        transcription = processor.batch_decode(predicted_ids, skip_special_tokens=True)[0]\n",
    "    \n",
    "    print(f\"Audio file: {audio_path}\")\n",
    "    print(f\"Transcription: {transcription}\")\n",
    "    \n",
    "    if reference:\n",
    "        error = wer(reference, transcription)\n",
    "        print(f\"Reference: {reference}\")\n",
    "        print(f\"WER: {error:.4f}\")\n",
    "    \n",
    "    return transcription"
   ]
  },
  {
   "cell_type": "code",
   "execution_count": null,
   "metadata": {},
   "outputs": [],
   "source": [
    "# Test with a sample audio file from the test set\n",
    "sample_idx = 0  # You can change this index to test different samples\n",
    "sample_audio = test_df.iloc[sample_idx]['audio_path']\n",
    "sample_reference = test_df.iloc[sample_idx]['text']\n",
    "\n",
    "transcribe_audio(sample_audio, sample_reference)"
   ]
  },
  {
   "cell_type": "markdown",
   "metadata": {},
   "source": [
    "## 9. Analyzing Singlish-specific Challenges\n",
    "\n",
    "Now let's analyze how the model performs with Singlish-specific features such as colloquial expressions, code-switching patterns, and pronunciation differences."
   ]
  },
  {
   "cell_type": "code",
   "execution_count": null,
   "metadata": {},
   "outputs": [],
   "source": [
    "# Helper function to detect potential Singlish particles and expressions\n",
    "def detect_singlish_terms(text):\n",
    "    # Common Singlish particles and expressions (expand as needed)\n",
    "    singlish_terms = [\n",
    "        'lah', 'lor', 'leh', 'meh', 'hor', 'ah', 'sia', 'can', 'makan', 'kiasu',\n",
    "        'shiok', 'alamak', 'aiyah', 'aiyoh', 'walao', 'sian', 'bojio', 'chope',\n",
    "        'already', 'got', 'one', 'what', 'where got', 'is it', 'can or not'\n",
    "    ]\n",
    "    \n",
    "    found_terms = []\n",
    "    lower_text = text.lower()\n",
    "    \n",
    "    for term in singlish_terms:\n",
    "        if re.search(r'\\b' + re.escape(term) + r'\\b', lower_text):\n",
    "            found_terms.append(term)\n",
    "    \n",
    "    return found_terms"
   ]
  },
  {
   "cell_type": "code",
   "execution_count": null,
   "metadata": {},
   "outputs": [],
   "source": [
    "# Identify Singlish terms in references and predictions\n",
    "results_df['ref_singlish_terms'] = results_df['reference'].apply(detect_singlish_terms)\n",
    "results_df['pred_singlish_terms'] = results_df['prediction'].apply(detect_singlish_terms)\n",
    "\n",
    "# Calculate the number of Singlish terms in each text\n",
    "results_df['ref_term_count'] = results_df['ref_singlish_terms'].apply(len)\n",
    "results_df['pred_term_count'] = results_df['pred_singlish_terms'].apply(len)\n",
    "\n",
    "# Calculate the percentage of Singlish terms recognized correctly\n",
    "def calculate_term_accuracy(row):\n",
    "    if not row['ref_singlish_terms']:\n",
    "        return None  # No Singlish terms in reference\n",
    "    \n",
    "    correct_terms = set(row['ref_singlish_terms']) & set(row['pred_singlish_terms'])\n",
    "    return len(correct_terms) / len(row['ref_singlish_terms']) if row['ref_singlish_terms'] else None\n",
    "\n",
    "results_df['term_accuracy'] = results_df.apply(calculate_term_accuracy, axis=1)"
   ]
  },
  {
   "cell_type": "code",
   "execution_count": null,
   "metadata": {},
   "outputs": [],
   "source": [
    "# Summary of Singlish term recognition\n",
    "term_accuracy = results_df['term_accuracy'].dropna()\n",
    "\n",
    "print(f\"Samples with Singlish terms: {len(term_accuracy)} out of {len(results_df)}\")\n",
    "if len(term_accuracy) > 0:\n",
    "    print(f\"Average Singlish term recognition accuracy: {term_accuracy.mean():.2%}\")\n",
    "\n",
    "# Group by performance category and calculate mean term accuracy\n",
    "singlish_perf = results_df.dropna(subset=['term_accuracy']).groupby('performance')['term_accuracy'].mean()\n",
    "print(\"\\nSinglish term accuracy by performance category:\")\n",
    "for category, accuracy in singlish_perf.items():\n",
    "    print(f\"{category}: {accuracy:.2%}\")"
   ]
  },
  {
   "cell_type": "code",
   "execution_count": null,
   "metadata": {},
   "outputs": [],
   "source": [
    "# Visualize Singlish term recognition performance\n",
    "plt.figure(figsize=(10, 6))\n",
    "plt.bar(\n",
    "    ['Recognized', 'Missed'], \n",
    "    [\n",
    "        results_df['pred_term_count'].sum(), \n",
    "        results_df['ref_term_count'].sum() - results_df['pred_term_count'].sum()\n",
    "    ],\n",
    "    color=['green', 'red']\n",
    ")\n",
    "plt.title('Recognition of Singlish Terms', fontsize=14)\n",
    "plt.ylabel('Count', fontsize=12)\n",
    "total_terms = results_df['ref_term_count'].sum()\n",
    "plt.text(\n",
    "    0, \n",
    "    results_df['pred_term_count'].sum() / 2, \n",
    "    f\"{results_df['pred_term_count'].sum()} / {total_terms}\\n({results_df['pred_term_count'].sum() / total_terms:.1%})\",\n",
    "    ha='center', va='center', fontsize=12, color='white'\n",
    ")\n",
    "plt.text(\n",
    "    1, \n",
    "    (total_terms - results_df['pred_term_count'].sum()) / 2, \n",
    "    f\"{total_terms - results_df['pred_term_count'].sum()} / {total_terms}\\n({(total_terms - results_df['pred_term_count'].sum()) / total_terms:.1%})\",\n",
    "    ha='center', va='center', fontsize=12, color='white'\n",
    ")\n",
    "plt.tight_layout()\n",
    "plt.savefig(\"singlish_term_recognition.png\")\n",
    "plt.show()"
   ]
  },
  {
   "cell_type": "markdown",
   "metadata": {},
   "source": [
    "## 10. Analyzing Performance by Speaker Characteristics\n",
    "\n",
    "While we're currently working with FEMALE_01 data, if you have multiple speakers, you could analyze performance by speaker characteristics. Here's how you might approach this (in our case, we'll simulate with segments of the current data)."
   ]
  },
  {
   "cell_type": "code",
   "execution_count": null,
   "metadata": {},
   "outputs": [],
   "source": [
    "# For demonstration purposes, let's split our data into segments to simulate different speakers\n",
    "# In practice, you would use actual speaker identifiers from your dataset\n",
    "\n",
    "# Let's split the results into 3 segments to simulate different speakers\n",
    "segment_size = len(results_df) // 3\n",
    "results_df['segment'] = pd.cut(\n",
    "    range(len(results_df)), \n",
    "    bins=3, \n",
    "    labels=[\"Segment 1\", \"Segment 2\", \"Segment 3\"]\n",
    ")\n",
    "\n",
    "# Calculate WER by segment\n",
    "segment_wer = results_df.groupby('segment')['wer'].mean()\n",
    "\n",
    "# Visualize WER by segment\n",
    "plt.figure(figsize=(10, 6))\n",
    "segment_wer.plot(kind='bar', color='skyblue')\n",
    "plt.title('WER by Audio Segment', fontsize=14)\n",
    "plt.ylabel('Mean WER', fontsize=12)\n",
    "plt.xlabel('Segment', fontsize=12)\n",
    "plt.xticks(rotation=0)\n",
    "\n",
    "for i, v in enumerate(segment_wer):\n",
    "    plt.text(i, v + 0.01, f\"{v:.4f}\", ha='center', fontsize=12)\n",
    "\n",
    "plt.tight_layout()\n",
    "plt.savefig(\"wer_by_segment.png\")\n",
    "plt.show()"
   ]
  },
  {
   "cell_type": "markdown",
   "metadata": {},
   "source": [
    "## 11. Optimizing Model Performance\n",
    "\n",
    "Let's create a function to test various decoding parameters to optimize our ASR performance. We'll use a small subset of the test data for this exploration."
   ]
  },
  {
   "cell_type": "code",
   "execution_count": null,
   "metadata": {},
   "outputs": [],
   "source": [
    "def test_decoding_params(test_samples=10):\n",
    "    \"\"\"Test different decoding parameters and their impact on WER\"\"\"\n",
    "    # Select a subset of test samples\n",
    "    subset = test_df.iloc[:test_samples]\n",
    "    \n",
    "    # Define parameter combinations to test\n",
    "    param_combinations = [\n",
    "        {\"beam_size\": 1, \"temperature\": 1.0},  # Default greedy decoding\n",
    "        {\"beam_size\": 5, \"temperature\": 1.0},  # Beam search\n",
    "        {\"beam_size\": 5, \"temperature\": 0.8},  # Lower temperature\n",
    "        {\"beam_size\": 5, \"temperature\": 0.5},  # Even lower temperature\n",
    "        {\"beam_size\": 10, \"temperature\": 1.0}  # Larger beam\n",
    "    ]\n",
    "    \n",
    "    results = []\n",
    "    \n",
    "    for params in param_combinations:\n",
    "        beam_size = params[\"beam_size\"]\n",
    "        temperature = params[\"temperature\"]\n",
    "        \n",
    "        print(f\"Testing beam_size={beam_size}, temperature={temperature}\")\n",
    "        predictions = []\n",
    "        references = []\n",
    "        \n",
    "        for _, row in tqdm(subset.iterrows(), total=len(subset)):\n",
    "            audio_path = row[\"audio_path\"]\n",
    "            reference_text = row[\"text\"]\n",
    "            \n",
    "            # Load audio\n",
    "            waveform, sample_rate = torchaudio.load(audio_path)\n",
    "            \n",
    "            # Process for model input\n",
    "            input_features = processor.feature_extractor(\n",
    "                waveform.squeeze().numpy(), \n",
    "                sampling_rate=sample_rate,\n",
    "                return_tensors=\"pt\"\n",
    "            ).input_features.to(device)\n",
    "            \n",
    "            # Generate prediction with specified parameters\n",
    "            with torch.no_grad():\n",
    "                predicted_ids = model.generate(\n",
    "                    input_features,\n",
    "                    num_beams=beam_size,\n",
    "                    temperature=temperature\n",
    "                )\n",
    "                transcription = processor.batch_decode(predicted_ids, skip_special_tokens=True)[0]\n",
    "            \n",
    "            predictions.append(transcription)\n",
    "            references.append(reference_text)\n",
    "        \n",
    "        # Calculate WER\n",
    "        error_rate = wer(references, predictions)\n",
    "        results.append({\n",
    "            \"beam_size\": beam_size,\n",
    "            \"temperature\": temperature,\n",
    "            \"wer\": error_rate\n",
    "        })\n",
    "        print(f\"WER: {error_rate:.4f}\")\n",
    "    \n",
    "    # Convert to DataFrame and return\n",
    "    return pd.DataFrame(results)"
   ]
  },
  {
   "cell_type": "code",
   "execution_count": null,
   "metadata": {},
   "outputs": [],
   "source": [
    "# Run parameter optimization (this may take some time)\n",
    "# Adjust the number of test samples based on your computing resources\n",
    "param_results = test_decoding_params(test_samples=5)"
   ]
  },
  {
   "cell_type": "code",
   "execution_count": null,
   "metadata": {},
   "outputs": [],
   "source": [
    "# Visualize parameter optimization results\n",
    "plt.figure(figsize=(12, 6))\n",
    "\n",
    "# Group by beam size\n",
    "for beam_size in param_results['beam_size'].unique():\n",
    "    subset = param_results[param_results['beam_size'] == beam_size]\n",
    "    plt.plot(\n",
    "        subset['temperature'], \n",
    "        subset['wer'], \n",
    "        marker='o', \n",
    "        label=f\"Beam Size = {beam_size}\"\n",
    "    )\n",
    "\n",
    "plt.title('Impact of Decoding Parameters on WER', fontsize=14)\n",
    "plt.xlabel('Temperature', fontsize=12)\n",
    "plt.ylabel('WER', fontsize=12)\n",
    "plt.legend(fontsize=12)\n",
    "plt.grid(True, linestyle='--', alpha=0.7)\n",
    "plt.savefig(\"decoding_params.png\")\n",
    "plt.show()\n",
    "\n",
    "# Identify the best parameters\n",
    "best_params = param_results.loc[param_results['wer'].idxmin()]\n",
    "print(f\"Best parameters: Beam Size = {best_params['beam_size']}, Temperature = {best_params['temperature']}\")\n",
    "print(f\"Best WER: {best_params['wer']:.4f}\")"
   ]
  },
  {
   "cell_type": "markdown",
   "metadata": {},
   "source": [
    "## 12. Deploy and Use the Fine-tuned Model\n",
    "\n",
    "Here's how you can load and use your fine-tuned model for transcription."
   ]
  },
  {
   "cell_type": "code",
   "execution_count": null,
   "metadata": {},
   "outputs": [],
   "source": [
    "def load_fine_tuned_model(model_path=\"./whisper-singlish-final\"):\n",
    "    \"\"\"Load the fine-tuned model and processor\"\"\"\n",
    "    processor = WhisperProcessor.from_pretrained(model_path)\n",
    "    model = WhisperForConditionalGeneration.from_pretrained(model_path)\n",
    "    model.to(device)\n",
    "    return model, processor\n",
    "\n",
    "def transcribe_with_fine_tuned(audio_path, model, processor, beam_size=5, temperature=0.8):\n",
    "    \"\"\"Transcribe audio with the fine-tuned model using optimal parameters\"\"\"\n",
    "    # Load audio\n",
    "    waveform, sample_rate = torchaudio.load(audio_path)\n",
    "    \n",
    "    # Process for model input\n",
    "    input_features = processor.feature_extractor(\n",
    "        waveform.squeeze().numpy(), \n",
    "        sampling_rate=sample_rate,\n",
    "        return_tensors=\"pt\"\n",
    "    ).input_features.to(device)\n",
    "    \n",
    "    # Generate prediction with optimal parameters\n",
    "    with torch.no_grad():\n",
    "        predicted_ids = model.generate(\n",
    "            input_features,\n",
    "            num_beams=beam_size,\n",
    "            temperature=temperature\n",
    "        )\n",
    "        transcription = processor.batch_decode(predicted_ids, skip_special_tokens=True)[0]\n",
    "    \n",
    "    return transcription"
   ]
  },
  {
   "cell_type": "code",
   "execution_count": null,
   "metadata": {},
   "outputs": [],
   "source": [
    "# Uncomment and run this code when you want to load and use your fine-tuned model\n",
    "\n",
    "# # Load fine-tuned model\n",
    "# fine_tuned_model, fine_tuned_processor = load_fine_tuned_model()\n",
    "# \n",
    "# # Test with an audio file\n",
    "# test_audio = \"path/to/test/audio.wav\"  # Replace with your test audio path\n",
    "# transcription = transcribe_with_fine_tuned(\n",
    "#     test_audio, \n",
    "#     fine_tuned_model, \n",
    "#     fine_tuned_processor,\n",
    "#     beam_size=5,  # Use optimal parameters found earlier\n",
    "#     temperature=0.8\n",
    "# )\n",
    "# \n",
    "# print(f\"Transcription: {transcription}\")"
   ]
  },
  {
   "cell_type": "markdown",
   "metadata": {},
   "source": [
    "## 13. Batch Processing for Large Datasets\n",
    "\n",
    "If you need to process a large dataset, here's a function to transcribe a batch of audio files."
   ]
  },
  {
   "cell_type": "code",
   "execution_count": null,
   "metadata": {},
   "outputs": [],
   "source": [
    "def batch_transcribe(audio_folder, output_csv, model, processor, beam_size=5, temperature=0.8):\n",
    "    \"\"\"Transcribe all WAV files in a folder and save results to CSV\"\"\"\n",
    "    results = []\n",
    "    audio_files = [f for f in os.listdir(audio_folder) if f.endswith('.wav')]\n",
    "    \n",
    "    for audio_file in tqdm(audio_files, desc=\"Transcribing\"):\n",
    "        audio_path = os.path.join(audio_folder, audio_file)\n",
    "        \n",
    "        try:\n",
    "            transcription = transcribe_with_fine_tuned(\n",
    "                audio_path,\n",
    "                model,\n",
    "                processor,\n",
    "                beam_size=beam_size,\n",
    "                temperature=temperature\n",
    "            )\n",
    "            \n",
    "            results.append({\n",
    "                \"audio_file\": audio_file,\n",
    "                \"transcription\": transcription\n",
    "            })\n",
    "        except Exception as e:\n",
    "            print(f\"Error processing {audio_file}: {str(e)}\")\n",
    "    \n",
    "    # Save results to CSV\n",
    "    pd.DataFrame(results).to_csv(output_csv, index=False)\n",
    "    print(f\"Transcriptions saved to {output_csv}\")"
   ]
  },
  {
   "cell_type": "code",
   "execution_count": null,
   "metadata": {},
   "outputs": [],
   "source": [
    "# Uncomment and run this code when you want to batch process audio files\n",
    "\n",
    "# # Process a folder of audio files\n",
    "# batch_transcribe(\n",
    "#     audio_folder=\"path/to/audio/folder\",  # Replace with your audio folder path\n",
    "#     output_csv=\"batch_transcriptions.csv\",\n",
    "#     model=fine_tuned_model,\n",
    "#     processor=fine_tuned_processor\n",
    "# )"
   ]
  },
  {
   "cell_type": "markdown",
   "metadata": {},
   "source": [
    "## 14. Conclusion\n",
    "\n",
    "In this notebook, we've successfully:\n",
    "\n",
    "1. Processed the National Speech Corpus data for Singlish ASR\n",
    "2. Fine-tuned a Whisper model on Singlish speech data\n",
    "3. Evaluated model performance using Word Error Rate (WER)\n",
    "4. Analyzed performance on Singlish-specific features\n",
    "5. Optimized decoding parameters\n",
    "6. Created functions for using the model for transcription\n",
    "\n",
    "This implementation provides a solid foundation for building a Singlish speech recognition system. The fine-tuned model can be further improved by:\n",
    "\n",
    "- Training on more diverse Singlish speakers\n",
    "- Including more varied speaking styles and contexts\n",
    "- Experimenting with different model architectures or sizes\n",
    "- Adding Singlish-specific preprocessing or post-processing steps\n",
    "\n",
    "The saved model can be deployed in various applications requiring Singlish speech recognition capabilities."
   ]
  }
 ],
 "metadata": {
  "kernelspec": {
   "display_name": "Python 3 (ipykernel)",
   "language": "python",
   "name": "python3"
  },
  "language_info": {
   "codemirror_mode": {
    "name": "ipython",
    "version": 3
   },
   "file_extension": ".py",
   "mimetype": "text/x-python",
   "name": "python",
   "nbconvert_exporter": "python",
   "pygments_lexer": "ipython3",
   "version": "3.11.4"
  }
 },
 "nbformat": 4,
 "nbformat_minor": 4
}
